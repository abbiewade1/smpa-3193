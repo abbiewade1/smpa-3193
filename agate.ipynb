{
 "cells": [
  {
   "cell_type": "code",
   "execution_count": 1,
   "metadata": {
    "collapsed": false
   },
   "outputs": [
    {
     "name": "stderr",
     "output_type": "stream",
     "text": [
      "/System/Library/Frameworks/Python.framework/Versions/2.7/lib/python2.7/json/encoder.py:207: DeprecationWarning: Interpreting naive datetime as local 2017-02-21 09:52:48.459432. Please add timezone info to timestamps.\n"
     ]
    }
   ],
   "source": [
    "import agate"
   ]
  },
  {
   "cell_type": "code",
   "execution_count": 2,
   "metadata": {
    "collapsed": false
   },
   "outputs": [
    {
     "name": "stderr",
     "output_type": "stream",
     "text": [
      "/System/Library/Frameworks/Python.framework/Versions/2.7/lib/python2.7/json/encoder.py:207: DeprecationWarning: Interpreting naive datetime as local 2017-02-21 09:52:56.039767. Please add timezone info to timestamps.\n"
     ]
    }
   ],
   "source": [
    "results = agate.Table.from_csv(\"mdcounty2014.csv\")"
   ]
  },
  {
   "cell_type": "code",
   "execution_count": 3,
   "metadata": {
    "collapsed": false
   },
   "outputs": [
    {
     "name": "stdout",
     "output_type": "stream",
     "text": [
      "| column          | data_type |\n",
      "| --------------- | --------- |\n",
      "| updated_at      | TimeDelta |\n",
      "| id              | Date      |\n",
      "| start_date      | DateTime  |\n",
      "| end_date        | DateTime  |\n",
      "| election_type   | Text      |\n",
      "| result_type     | Text      |\n",
      "| special         | Boolean   |\n",
      "| office          | Text      |\n",
      "| district        | Text      |\n",
      "| name_raw        | Text      |\n",
      "| last_name       | Boolean   |\n",
      "| first_name      | Boolean   |\n",
      "| suffix          | Boolean   |\n",
      "| middle_name     | Boolean   |\n",
      "| party           | Text      |\n",
      "| jurisdiction    | Text      |\n",
      "| division        | Text      |\n",
      "| votes           | Number    |\n",
      "| votes_type      | Boolean   |\n",
      "| total_votes     | Boolean   |\n",
      "| winner          | Boolean   |\n",
      "| write_in        | Boolean   |\n",
      "| year            | Number    |\n",
      "| election_day    | Number    |\n",
      "| absentee        | Number    |\n",
      "| second_absentee | Number    |\n",
      "| provisional     | Number    |\n",
      "\n"
     ]
    },
    {
     "name": "stderr",
     "output_type": "stream",
     "text": [
      "/System/Library/Frameworks/Python.framework/Versions/2.7/lib/python2.7/json/encoder.py:207: DeprecationWarning: Interpreting naive datetime as local 2017-02-21 09:53:03.354674. Please add timezone info to timestamps.\n"
     ]
    }
   ],
   "source": [
    "print(results)"
   ]
  },
  {
   "cell_type": "code",
   "execution_count": 4,
   "metadata": {
    "collapsed": false
   },
   "outputs": [
    {
     "name": "stderr",
     "output_type": "stream",
     "text": [
      "/System/Library/Frameworks/Python.framework/Versions/2.7/lib/python2.7/json/encoder.py:207: DeprecationWarning: Interpreting naive datetime as local 2017-02-21 09:53:14.024648. Please add timezone info to timestamps.\n"
     ]
    }
   ],
   "source": [
    "row = results.rows[0]"
   ]
  },
  {
   "cell_type": "code",
   "execution_count": 5,
   "metadata": {
    "collapsed": false
   },
   "outputs": [
    {
     "data": {
      "text/plain": [
       "u'Allegany'"
      ]
     },
     "execution_count": 5,
     "metadata": {},
     "output_type": "execute_result"
    },
    {
     "name": "stderr",
     "output_type": "stream",
     "text": [
      "/System/Library/Frameworks/Python.framework/Versions/2.7/lib/python2.7/json/encoder.py:207: DeprecationWarning: Interpreting naive datetime as local 2017-02-21 09:53:24.068280. Please add timezone info to timestamps.\n"
     ]
    }
   ],
   "source": [
    "row['jurisdiction']"
   ]
  },
  {
   "cell_type": "code",
   "execution_count": 6,
   "metadata": {
    "collapsed": false
   },
   "outputs": [
    {
     "name": "stderr",
     "output_type": "stream",
     "text": [
      "/System/Library/Frameworks/Python.framework/Versions/2.7/lib/python2.7/json/encoder.py:207: DeprecationWarning: Interpreting naive datetime as local 2017-02-21 09:53:52.940787. Please add timezone info to timestamps.\n"
     ]
    }
   ],
   "source": [
    "by_county = results.group_by('jurisdiction')"
   ]
  },
  {
   "cell_type": "code",
   "execution_count": 7,
   "metadata": {
    "collapsed": false
   },
   "outputs": [
    {
     "name": "stderr",
     "output_type": "stream",
     "text": [
      "/System/Library/Frameworks/Python.framework/Versions/2.7/lib/python2.7/json/encoder.py:207: DeprecationWarning: Interpreting naive datetime as local 2017-02-21 09:54:02.932659. Please add timezone info to timestamps.\n"
     ]
    }
   ],
   "source": [
    "totals = by_county.aggregate([('county_total', agate.Sum('votes'))])"
   ]
  },
  {
   "cell_type": "code",
   "execution_count": 8,
   "metadata": {
    "collapsed": false
   },
   "outputs": [
    {
     "name": "stderr",
     "output_type": "stream",
     "text": [
      "/System/Library/Frameworks/Python.framework/Versions/2.7/lib/python2.7/json/encoder.py:207: DeprecationWarning: Interpreting naive datetime as local 2017-02-21 09:54:13.430255. Please add timezone info to timestamps.\n"
     ]
    }
   ],
   "source": [
    "totals = totals.order_by('county_total', reverse=True)"
   ]
  },
  {
   "cell_type": "code",
   "execution_count": 9,
   "metadata": {
    "collapsed": false
   },
   "outputs": [
    {
     "name": "stdout",
     "output_type": "stream",
     "text": [
      "jurisdiction    county_total\n",
      "Montgomery         1,954,822 ▓░░░░░░░░░░░░░░░░░░░░░░░░░░░░░░░░░░░░░░░░░░░░░░░░░ \n",
      "Baltimore          1,851,809 ▓░░░░░░░░░░░░░░░░░░░░░░░░░░░░░░░░░░░░░░░░░░░░░░    \n",
      "Prince George's    1,501,125 ▓░░░░░░░░░░░░░░░░░░░░░░░░░░░░░░░░░░░░░░            \n",
      "Anne Arundel       1,240,645 ▓░░░░░░░░░░░░░░░░░░░░░░░░░░░░░░░                   \n",
      "Baltimore City       979,608 ▓░░░░░░░░░░░░░░░░░░░░░░░░                          \n",
      "Howard               749,280 ▓░░░░░░░░░░░░░░░░░░░                               \n",
      "Harford              615,680 ▓░░░░░░░░░░░░░░░                                   \n",
      "Frederick            544,177 ▓░░░░░░░░░░░░░░                                    \n",
      "Carroll              466,467 ▓░░░░░░░░░░░░                                      \n",
      "Charles              328,887 ▓░░░░░░░░                                          \n",
      "                             +-----------+------------+------------------------+\n",
      "                             0        500,000     1,000,000            2,000,000\n"
     ]
    },
    {
     "name": "stderr",
     "output_type": "stream",
     "text": [
      "/System/Library/Frameworks/Python.framework/Versions/2.7/lib/python2.7/json/encoder.py:207: DeprecationWarning: Interpreting naive datetime as local 2017-02-21 09:54:22.998427. Please add timezone info to timestamps.\n"
     ]
    }
   ],
   "source": [
    "totals.limit(10).print_bars('jurisdiction', 'county_total', width=80)"
   ]
  },
  {
   "cell_type": "code",
   "execution_count": 10,
   "metadata": {
    "collapsed": false
   },
   "outputs": [
    {
     "name": "stderr",
     "output_type": "stream",
     "text": [
      "/System/Library/Frameworks/Python.framework/Versions/2.7/lib/python2.7/json/encoder.py:207: DeprecationWarning: Interpreting naive datetime as local 2017-02-21 09:57:32.057130. Please add timezone info to timestamps.\n"
     ]
    }
   ],
   "source": [
    "import agate"
   ]
  },
  {
   "cell_type": "code",
   "execution_count": 11,
   "metadata": {
    "collapsed": false
   },
   "outputs": [
    {
     "name": "stderr",
     "output_type": "stream",
     "text": [
      "/System/Library/Frameworks/Python.framework/Versions/2.7/lib/python2.7/json/encoder.py:207: DeprecationWarning: Interpreting naive datetime as local 2017-02-21 09:57:43.587181. Please add timezone info to timestamps.\n"
     ]
    }
   ],
   "source": [
    "results = agate.Table.from_csv(\"mdcounty2014.csv\")"
   ]
  },
  {
   "cell_type": "code",
   "execution_count": 12,
   "metadata": {
    "collapsed": false
   },
   "outputs": [
    {
     "name": "stdout",
     "output_type": "stream",
     "text": [
      "| column          | data_type |\n",
      "| --------------- | --------- |\n",
      "| updated_at      | TimeDelta |\n",
      "| id              | Date      |\n",
      "| start_date      | DateTime  |\n",
      "| end_date        | DateTime  |\n",
      "| election_type   | Text      |\n",
      "| result_type     | Text      |\n",
      "| special         | Boolean   |\n",
      "| office          | Text      |\n",
      "| district        | Text      |\n",
      "| name_raw        | Text      |\n",
      "| last_name       | Boolean   |\n",
      "| first_name      | Boolean   |\n",
      "| suffix          | Boolean   |\n",
      "| middle_name     | Boolean   |\n",
      "| party           | Text      |\n",
      "| jurisdiction    | Text      |\n",
      "| division        | Text      |\n",
      "| votes           | Number    |\n",
      "| votes_type      | Boolean   |\n",
      "| total_votes     | Boolean   |\n",
      "| winner          | Boolean   |\n",
      "| write_in        | Boolean   |\n",
      "| year            | Number    |\n",
      "| election_day    | Number    |\n",
      "| absentee        | Number    |\n",
      "| second_absentee | Number    |\n",
      "| provisional     | Number    |\n",
      "\n"
     ]
    },
    {
     "name": "stderr",
     "output_type": "stream",
     "text": [
      "/System/Library/Frameworks/Python.framework/Versions/2.7/lib/python2.7/json/encoder.py:207: DeprecationWarning: Interpreting naive datetime as local 2017-02-21 09:57:51.859041. Please add timezone info to timestamps.\n"
     ]
    }
   ],
   "source": [
    "print(results)"
   ]
  },
  {
   "cell_type": "code",
   "execution_count": 13,
   "metadata": {
    "collapsed": false
   },
   "outputs": [
    {
     "name": "stderr",
     "output_type": "stream",
     "text": [
      "/System/Library/Frameworks/Python.framework/Versions/2.7/lib/python2.7/json/encoder.py:207: DeprecationWarning: Interpreting naive datetime as local 2017-02-21 09:58:02.572395. Please add timezone info to timestamps.\n"
     ]
    }
   ],
   "source": [
    "row = results.rows[0]"
   ]
  },
  {
   "cell_type": "code",
   "execution_count": 14,
   "metadata": {
    "collapsed": false
   },
   "outputs": [
    {
     "data": {
      "text/plain": [
       "u'Anthony G. Brown'"
      ]
     },
     "execution_count": 14,
     "metadata": {},
     "output_type": "execute_result"
    },
    {
     "name": "stderr",
     "output_type": "stream",
     "text": [
      "/System/Library/Frameworks/Python.framework/Versions/2.7/lib/python2.7/json/encoder.py:207: DeprecationWarning: Interpreting naive datetime as local 2017-02-21 09:58:15.299457. Please add timezone info to timestamps.\n"
     ]
    }
   ],
   "source": [
    "row['name_raw']"
   ]
  },
  {
   "cell_type": "code",
   "execution_count": 15,
   "metadata": {
    "collapsed": false
   },
   "outputs": [
    {
     "name": "stderr",
     "output_type": "stream",
     "text": [
      "/System/Library/Frameworks/Python.framework/Versions/2.7/lib/python2.7/json/encoder.py:207: DeprecationWarning: Interpreting naive datetime as local 2017-02-21 09:58:34.088858. Please add timezone info to timestamps.\n"
     ]
    }
   ],
   "source": [
    "by_county = results.group_by('name_raw')"
   ]
  },
  {
   "cell_type": "code",
   "execution_count": 16,
   "metadata": {
    "collapsed": false
   },
   "outputs": [
    {
     "name": "stderr",
     "output_type": "stream",
     "text": [
      "/System/Library/Frameworks/Python.framework/Versions/2.7/lib/python2.7/json/encoder.py:207: DeprecationWarning: Interpreting naive datetime as local 2017-02-21 09:58:46.502608. Please add timezone info to timestamps.\n"
     ]
    }
   ],
   "source": [
    "totals = by_county.aggregate([('county_total', agate.Sum('votes'))])"
   ]
  },
  {
   "cell_type": "code",
   "execution_count": 17,
   "metadata": {
    "collapsed": false
   },
   "outputs": [
    {
     "name": "stderr",
     "output_type": "stream",
     "text": [
      "/System/Library/Frameworks/Python.framework/Versions/2.7/lib/python2.7/json/encoder.py:207: DeprecationWarning: Interpreting naive datetime as local 2017-02-21 09:58:56.480575. Please add timezone info to timestamps.\n"
     ]
    }
   ],
   "source": [
    "totals = totals.order_by('county_total', reverse=True)"
   ]
  },
  {
   "cell_type": "code",
   "execution_count": 18,
   "metadata": {
    "collapsed": false
   },
   "outputs": [
    {
     "name": "stdout",
     "output_type": "stream",
     "text": [
      "name_raw            county_total\n",
      "Peter Franchot         1,061,267 ▓░░░░░░░░░░░░░░░░░░░░░░░░                      \n",
      "Brian E. Frosh           935,846 ▓░░░░░░░░░░░░░░░░░░░░░░                        \n",
      "Larry Hogan              884,400 ▓░░░░░░░░░░░░░░░░░░░░                          \n",
      "Anthony G. Brown         818,890 ▓░░░░░░░░░░░░░░░░░░░                           \n",
      "Jeffrey N. Pritzker      682,265 ▓░░░░░░░░░░░░░░░░                              \n",
      "William H. Campbell      630,109 ▓░░░░░░░░░░░░░░                                \n",
      "Andy Harris              176,342 ▓░░░░                                          \n",
      "Steny H. Hoyer           144,725 ▓░░░                                           \n",
      "Elijah Cummings          144,639 ▓░░░                                           \n",
      "Chris Van Hollen         136,722 ▓░░░                                           \n",
      "                                 +-----------+----------+----------------------+\n",
      "                                 0        500,000   1,000,000          2,000,000\n"
     ]
    },
    {
     "name": "stderr",
     "output_type": "stream",
     "text": [
      "/System/Library/Frameworks/Python.framework/Versions/2.7/lib/python2.7/json/encoder.py:207: DeprecationWarning: Interpreting naive datetime as local 2017-02-21 09:59:14.005967. Please add timezone info to timestamps.\n"
     ]
    }
   ],
   "source": [
    "totals.limit(10).print_bars('name_raw', 'county_total', width=80)"
   ]
  },
  {
   "cell_type": "code",
   "execution_count": null,
   "metadata": {
    "collapsed": true
   },
   "outputs": [],
   "source": []
  }
 ],
 "metadata": {
  "kernelspec": {
   "display_name": "Python 2",
   "language": "python",
   "name": "python2"
  },
  "language_info": {
   "codemirror_mode": {
    "name": "ipython",
    "version": 2
   },
   "file_extension": ".py",
   "mimetype": "text/x-python",
   "name": "python",
   "nbconvert_exporter": "python",
   "pygments_lexer": "ipython2",
   "version": "2.7.10"
  }
 },
 "nbformat": 4,
 "nbformat_minor": 2
}
